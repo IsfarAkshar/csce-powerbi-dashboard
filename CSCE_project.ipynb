{
  "nbformat": 4,
  "nbformat_minor": 0,
  "metadata": {
    "colab": {
      "provenance": []
    },
    "kernelspec": {
      "name": "python3",
      "display_name": "Python 3"
    },
    "language_info": {
      "name": "python"
    }
  },
  "cells": [
    {
      "cell_type": "code",
      "execution_count": 2,
      "metadata": {
        "colab": {
          "base_uri": "https://localhost:8080/"
        },
        "id": "2KXa-VmYVZKu",
        "outputId": "3a26aa21-c4dc-4e13-9f79-8fe34bb93b44"
      },
      "outputs": [
        {
          "output_type": "stream",
          "name": "stdout",
          "text": [
            "Escalation Rate: 25.0 %\n",
            "\n",
            "Tickets by Channel:\n",
            " channel\n",
            "Email    3\n",
            "Chat     3\n",
            "Phone    2\n",
            "Name: count, dtype: int64\n",
            "\n",
            "Average Resolution Time:\n",
            " channel\n",
            "Chat     50.000000\n",
            "Email    68.333333\n",
            "Phone    25.000000\n",
            "Name: resolution_time, dtype: float64\n",
            "\n",
            "Agent Summary:\n",
            "           ticket_count  avg_resolution  avg_satisfaction  escalated_tickets\n",
            "agent_id                                                                   \n",
            "A1                   3       68.333333          2.333333                  1\n",
            "A2                   3       50.000000          3.666667                  1\n",
            "A3                   2       25.000000          5.000000                  0\n"
          ]
        }
      ],
      "source": [
        "import pandas as pd\n",
        "\n",
        "# Load data\n",
        "df = pd.read_csv(\"/content/CSCE_Dashboard_Data.csv\")\n",
        "df['ticket_date'] = pd.to_datetime(df['ticket_date'])\n",
        "\n",
        "# Escalation rate\n",
        "escalation_rate = (df['status'] == 'Escalated').mean() * 100\n",
        "\n",
        "# Tickets by channel\n",
        "tickets_by_channel = df['channel'].value_counts()\n",
        "\n",
        "# Avg resolution time per channel\n",
        "avg_resolution = df.groupby('channel')['resolution_time'].mean()\n",
        "\n",
        "# Agent performance\n",
        "agent_summary = df.groupby('agent_id').agg({\n",
        "    'ticket_id': 'count',\n",
        "    'resolution_time': 'mean',\n",
        "    'satisfaction_score': 'mean',\n",
        "    'status': lambda x: (x == 'Escalated').sum()\n",
        "}).rename(columns={\n",
        "    'ticket_id': 'ticket_count',\n",
        "    'resolution_time': 'avg_resolution',\n",
        "    'satisfaction_score': 'avg_satisfaction',\n",
        "    'status': 'escalated_tickets'\n",
        "})\n",
        "\n",
        "# Export for Power BI\n",
        "agent_summary.to_excel(\"agent_summary.xlsx\")\n",
        "\n",
        "# Print results\n",
        "print(\"Escalation Rate:\", round(escalation_rate, 2), \"%\")\n",
        "print(\"\\nTickets by Channel:\\n\", tickets_by_channel)\n",
        "print(\"\\nAverage Resolution Time:\\n\", avg_resolution)\n",
        "print(\"\\nAgent Summary:\\n\", agent_summary)\n"
      ]
    },
    {
      "cell_type": "markdown",
      "source": [
        "**Simulating DB with SQLite**"
      ],
      "metadata": {
        "id": "EthJE8opVzLX"
      }
    },
    {
      "cell_type": "markdown",
      "source": [
        "**Escalation Rate by Channel**"
      ],
      "metadata": {
        "id": "95HVp7VifYss"
      }
    },
    {
      "cell_type": "code",
      "source": [
        "import pandas as pd\n",
        "import sqlite3\n",
        "\n",
        "# Step 1: Load the dataset\n",
        "df = pd.read_csv(\"/content/CSCE_Dashboard_Data.csv\")\n",
        "\n",
        "# Step 2: Connect to SQLite and load DataFrame as SQL table\n",
        "conn = sqlite3.connect(\"csce.db\")\n",
        "df.to_sql(\"tickets\", conn, if_exists=\"replace\", index=False)\n",
        "\n",
        "cursor = conn.cursor()\n",
        "\n",
        "# --- 1. Escalation Rate by Channel ---\n",
        "print(\"🔹 Escalation Rate by Channel:\\n\")\n",
        "query1 = \"\"\"\n",
        "SELECT\n",
        "  channel,\n",
        "  ROUND(100.0 * SUM(CASE WHEN status = 'Escalated' THEN 1 ELSE 0 END) / COUNT(*), 2) AS escalation_rate\n",
        "FROM tickets\n",
        "GROUP BY channel;\n",
        "\"\"\"\n",
        "cursor.execute(query1)\n",
        "for row in cursor.fetchall():\n",
        "    print(f\"{row[0]}: {row[1]}%\")\n",
        "\n",
        "# --- 2. Average Resolution Time by Agent ---\n",
        "print(\"\\n🔹 Avg Resolution Time by Agent:\\n\")\n",
        "query2 = \"\"\"\n",
        "SELECT\n",
        "  agent_id,\n",
        "  ROUND(AVG(resolution_time), 2) AS avg_resolution_time\n",
        "FROM tickets\n",
        "GROUP BY agent_id;\n",
        "\"\"\"\n",
        "cursor.execute(query2)\n",
        "for row in cursor.fetchall():\n",
        "    print(f\"Agent {row[0]}: {row[1]} mins\")\n",
        "\n",
        "# --- 3. Daily Ticket Volume ---\n",
        "print(\"\\n🔹 Daily Ticket Volume:\\n\")\n",
        "query3 = \"\"\"\n",
        "SELECT\n",
        "  ticket_date,\n",
        "  COUNT(*) AS total_tickets\n",
        "FROM tickets\n",
        "GROUP BY ticket_date\n",
        "ORDER BY ticket_date;\n",
        "\"\"\"\n",
        "cursor.execute(query3)\n",
        "for row in cursor.fetchall():\n",
        "    print(f\"{row[0]}: {row[1]} tickets\")\n",
        "\n",
        "# --- 4. Tickets by Status and Channel ---\n",
        "print(\"\\n🔹 Ticket Status Breakdown by Channel:\\n\")\n",
        "query4 = \"\"\"\n",
        "SELECT\n",
        "  channel,\n",
        "  status,\n",
        "  COUNT(*) AS total\n",
        "FROM tickets\n",
        "GROUP BY channel, status;\n",
        "\"\"\"\n",
        "cursor.execute(query4)\n",
        "for row in cursor.fetchall():\n",
        "    print(f\"{row[0]} | {row[1]}: {row[2]}\")\n",
        "\n",
        "# --- 5. Average Satisfaction by Agent ---\n",
        "print(\"\\n🔹 Average Satisfaction Score by Agent:\\n\")\n",
        "query5 = \"\"\"\n",
        "SELECT\n",
        "  agent_id,\n",
        "  ROUND(AVG(satisfaction_score), 2) AS avg_score\n",
        "FROM tickets\n",
        "GROUP BY agent_id;\n",
        "\"\"\"\n",
        "cursor.execute(query5)\n",
        "for row in cursor.fetchall():\n",
        "    print(f\"Agent {row[0]}: {row[1]}/5\")\n",
        "\n",
        "# Close connection\n",
        "conn.close()\n"
      ],
      "metadata": {
        "colab": {
          "base_uri": "https://localhost:8080/"
        },
        "id": "ifq2qkVKhMRd",
        "outputId": "28ebda04-1204-458b-9162-c63e4fd1f29c"
      },
      "execution_count": 9,
      "outputs": [
        {
          "output_type": "stream",
          "name": "stdout",
          "text": [
            "🔹 Escalation Rate by Channel:\n",
            "\n",
            "Chat: 33.33%\n",
            "Email: 33.33%\n",
            "Phone: 0.0%\n",
            "\n",
            "🔹 Avg Resolution Time by Agent:\n",
            "\n",
            "Agent A1: 68.33 mins\n",
            "Agent A2: 50.0 mins\n",
            "Agent A3: 25.0 mins\n",
            "\n",
            "🔹 Daily Ticket Volume:\n",
            "\n",
            "2024-06-01: 1 tickets\n",
            "2024-06-02: 2 tickets\n",
            "2024-06-03: 1 tickets\n",
            "2024-06-04: 2 tickets\n",
            "2024-06-05: 1 tickets\n",
            "2024-06-06: 1 tickets\n",
            "\n",
            "🔹 Ticket Status Breakdown by Channel:\n",
            "\n",
            "Chat | Escalated: 1\n",
            "Chat | Resolved: 2\n",
            "Email | Escalated: 1\n",
            "Email | Resolved: 2\n",
            "Phone | Resolved: 2\n",
            "\n",
            "🔹 Average Satisfaction Score by Agent:\n",
            "\n",
            "Agent A1: 2.33/5\n",
            "Agent A2: 3.67/5\n",
            "Agent A3: 5.0/5\n"
          ]
        }
      ]
    }
  ]
}